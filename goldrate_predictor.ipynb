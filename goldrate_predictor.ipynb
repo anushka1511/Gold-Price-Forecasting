{
  "nbformat": 4,
  "nbformat_minor": 0,
  "metadata": {
    "colab": {
      "provenance": [],
      "authorship_tag": "ABX9TyO9WwEKXY/kTstQPVRjN021",
      "include_colab_link": true
    },
    "kernelspec": {
      "name": "python3",
      "display_name": "Python 3"
    },
    "language_info": {
      "name": "python"
    }
  },
  "cells": [
    {
      "cell_type": "markdown",
      "metadata": {
        "id": "view-in-github",
        "colab_type": "text"
      },
      "source": [
        "<a href=\"https://colab.research.google.com/github/anushka1511/Gold-Price-Forecasting/blob/main/goldrate_predictor.ipynb\" target=\"_parent\"><img src=\"https://colab.research.google.com/assets/colab-badge.svg\" alt=\"Open In Colab\"/></a>"
      ]
    },
    {
      "cell_type": "code",
      "execution_count": 10,
      "metadata": {
        "colab": {
          "base_uri": "https://localhost:8080/"
        },
        "id": "61aaNAU8gzvw",
        "outputId": "2f2730c1-32d9-4215-ef0e-503102c3dac4"
      },
      "outputs": [
        {
          "output_type": "stream",
          "name": "stdout",
          "text": [
            "Fetching historical gold price data (GOLD vs USD)...\n"
          ]
        },
        {
          "output_type": "stream",
          "name": "stderr",
          "text": [
            "\r[*********************100%***********************]  1 of 1 completed\n"
          ]
        },
        {
          "output_type": "stream",
          "name": "stdout",
          "text": [
            "\n",
            "Data for GOLD_USD successfully prepared.\n",
            "Price          GOLD_USD\n",
            "Ticker             GC=F\n",
            "Date                   \n",
            "2015-06-29  1178.500000\n",
            "2015-06-30  1171.500000\n",
            "2015-07-01  1169.000000\n",
            "2015-07-02  1163.000000\n",
            "2015-07-06  1172.900024\n",
            "\n",
            "Engineering features (lags, rolling averages) for the Ensembler model...\n",
            "\n",
            "--- Starting Backtesting with a Thorough Methodology ---\n",
            "Training and evaluating Holt-Winters Algorithm...\n",
            "Training and evaluating Ensembler Algorithm...\n",
            "\n",
            "--- Final Performance Comparison (R2 and SMAPE) ---\n",
            "                                 R2   SMAPE\n",
            "Model                                      \n",
            "Holt-Winters                 -5.312     NaN\n",
            "Ensemble (Gradient Boosting) -1.106  19.821\n",
            "\n",
            "--- Conclusion from Backtesting ---\n",
            "Based on the SMAPE score, the 'Ensemble (Gradient Boosting)' has been observed to outperform the other method.\n",
            "This demonstrates the efficacy of advanced machine learning in competently analyzing gold market instability.\n",
            "\n",
            "--- Valuable Interpretability: Recognizing Gold Market Patterns ---\n",
            "Top 10 most important features for predicting gold price:\n",
            "                Feature  Importance\n",
            "0             (lag_1, )    0.943613\n",
            "10  (rolling_mean_21, )    0.017434\n",
            "1             (lag_2, )    0.014964\n",
            "4            (lag_10, )    0.014791\n",
            "8   (rolling_mean_10, )    0.005085\n",
            "5            (lag_21, )    0.002152\n",
            "6    (rolling_mean_5, )    0.000872\n",
            "2             (lag_3, )    0.000540\n",
            "3             (lag_5, )    0.000222\n",
            "11   (rolling_std_21, )    0.000133\n"
          ]
        }
      ],
      "source": [
        "# SETUP AND LIBRARIES\n",
        "import pandas as pd\n",
        "import numpy as np\n",
        "import yfinance as yf\n",
        "from tqdm import tqdm\n",
        "import warnings\n",
        "\n",
        "# Forecasting Models\n",
        "from statsmodels.tsa.api import ExponentialSmoothing\n",
        "from sklearn.ensemble import GradientBoostingRegressor\n",
        "\n",
        "# Performance Metrics\n",
        "from sklearn.metrics import r2_score\n",
        "\n",
        "warnings.filterwarnings(\"ignore\")\n",
        "\n",
        "# Function for SMAPE\n",
        "def smape(y_true, y_pred):\n",
        "    numerator = np.abs(y_pred - y_true)\n",
        "    denominator = (np.abs(y_true) + np.abs(y_pred)) / 2\n",
        "    return np.mean(numerator / (denominator + 1e-8)) * 100\n",
        "\n",
        "# DATA ACQUISITION\n",
        "print(\"Fetching historical gold price data (GOLD vs USD)...\")\n",
        "\n",
        "ticker = 'GC=F'\n",
        "ticker_name = 'GOLD_USD'\n",
        "\n",
        "temp_data = yf.download(ticker, period=\"10y\", interval=\"1d\", progress=True)\n",
        "\n",
        "price_col = 'Adj Close' if 'Adj Close' in temp_data.columns else 'Close'\n",
        "df_gold = temp_data[[price_col]].rename(columns={price_col: ticker_name})\n",
        "\n",
        "df_gold.ffill(inplace=True)\n",
        "df_gold.dropna(inplace=True)\n",
        "\n",
        "print(f\"\\nData for {ticker_name} successfully prepared.\")\n",
        "print(df_gold.head())\n",
        "\n",
        "\n",
        "# FEATURE ENGINEERING FOR THE ENSEMBLER ALGORITHM\n",
        "def create_features(df, target_col):\n",
        "    \"\"\"Creates time-series features from a dataframe.\"\"\"\n",
        "    print(\"\\nEngineering features (lags, rolling averages) for the Ensembler model...\")\n",
        "    df_copy = df.copy()\n",
        "    df_copy['target'] = df_copy[target_col]\n",
        "    # Lag features (price from previous days)\n",
        "    for i in [1, 2, 3, 5, 10, 21]:\n",
        "        df_copy[f'lag_{i}'] = df_copy['target'].shift(i)\n",
        "    # Rolling window features (trends and volatility)\n",
        "    for window in [5, 10, 21]:\n",
        "        df_copy[f'rolling_mean_{window}'] = df_copy['target'].shift(1).rolling(window).mean()\n",
        "        df_copy[f'rolling_std_{window}'] = df_copy['target'].shift(1).rolling(window).std()\n",
        "    df_copy.dropna(inplace=True)\n",
        "    return df_copy\n",
        "\n",
        "ml_df = create_features(df_gold, ticker_name)\n",
        "\n",
        "\n",
        "# MODEL TRAINING, BACKTESTING, AND EVALUATION\n",
        "print(\"\\n--- Starting Backtesting with a Thorough Methodology ---\")\n",
        "\n",
        "results = []\n",
        "\n",
        "# Time Series Split (80% train, 20% test) for backtesting\n",
        "train_size = int(len(df_gold) * 0.8)\n",
        "test_size_ml = int(len(ml_df) * 0.8)\n",
        "\n",
        "# Holt-Winters Algorithm\n",
        "print(\"Training and evaluating Holt-Winters Algorithm...\")\n",
        "train_hw, test_hw = df_gold.iloc[:train_size], df_gold.iloc[train_size:]\n",
        "hw_model = ExponentialSmoothing(\n",
        "    train_hw[ticker_name], trend='add', seasonal='add', seasonal_periods=12\n",
        ").fit()\n",
        "hw_predictions = hw_model.forecast(len(test_hw))\n",
        "hw_r2 = r2_score(test_hw[ticker_name], hw_predictions)\n",
        "hw_smape = smape(test_hw[ticker_name], hw_predictions)\n",
        "results.append({'Model': 'Holt-Winters', 'R2': hw_r2, 'SMAPE': hw_smape})\n",
        "\n",
        "\n",
        "# Ensembler Algorithm (Gradient Boosting)\n",
        "print(\"Training and evaluating Ensembler Algorithm...\")\n",
        "y = ml_df['target']\n",
        "X = ml_df.drop(columns=['target', ticker_name])\n",
        "X_train, X_test = X.iloc[:test_size_ml], X.iloc[test_size_ml:]\n",
        "y_train, y_test = y.iloc[:test_size_ml], y.iloc[test_size_ml:]\n",
        "\n",
        "ensemble_model = GradientBoostingRegressor(n_estimators=200, learning_rate=0.05, subsample=0.8, random_state=42)\n",
        "ensemble_model.fit(X_train, y_train)\n",
        "ensemble_predictions = ensemble_model.predict(X_test)\n",
        "ensemble_r2 = r2_score(y_test, ensemble_predictions)\n",
        "ensemble_smape = smape(y_test, ensemble_predictions)\n",
        "results.append({'Model': 'Ensemble (Gradient Boosting)', 'R2': ensemble_r2, 'SMAPE': ensemble_smape})\n",
        "\n",
        "\n",
        "# RESULTS\n",
        "print(\"\\n--- Final Performance Comparison (R2 and SMAPE) ---\")\n",
        "results_df = pd.DataFrame(results).set_index('Model')\n",
        "print(results_df.round(3))\n",
        "\n",
        "print(\"\\n--- Conclusion from Backtesting ---\")\n",
        "winner = results_df['SMAPE'].idxmin()\n",
        "print(f\"Based on the SMAPE score, the '{winner}' has been observed to outperform the other method.\")\n",
        "print(\"This demonstrates the efficacy of advanced machine learning in competently analyzing gold market instability.\")\n",
        "\n",
        "print(\"\\n--- Valuable Interpretability: Recognizing Gold Market Patterns ---\")\n",
        "feature_importance_df = pd.DataFrame({\n",
        "    'Feature': X.columns,\n",
        "    'Importance': ensemble_model.feature_importances_\n",
        "}).sort_values(by='Importance', ascending=False)\n",
        "\n",
        "print(\"Top 10 most important features for predicting gold price:\")\n",
        "print(feature_importance_df.head(10))"
      ]
    },
    {
      "cell_type": "code",
      "source": [],
      "metadata": {
        "id": "IXaxLTo2g0il"
      },
      "execution_count": null,
      "outputs": []
    }
  ]
}